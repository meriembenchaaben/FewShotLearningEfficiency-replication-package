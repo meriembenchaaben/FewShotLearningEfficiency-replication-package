{
  "nbformat": 4,
  "nbformat_minor": 0,
  "metadata": {
    "colab": {
      "provenance": [],
      "authorship_tag": "ABX9TyPG2agr/O7822PbYCwGgcLP",
      "include_colab_link": true
    },
    "kernelspec": {
      "name": "python3",
      "display_name": "Python 3"
    },
    "language_info": {
      "name": "python"
    }
  },
  "cells": [
    {
      "cell_type": "markdown",
      "metadata": {
        "id": "view-in-github",
        "colab_type": "text"
      },
      "source": [
        "<a href=\"https://colab.research.google.com/github/meriembenchaaben/FewShotLearningEfficiency-replication-package/blob/main/scripts/ModelToFacts.ipynb\" target=\"_parent\"><img src=\"https://colab.research.google.com/assets/colab-badge.svg\" alt=\"Open In Colab\"/></a>"
      ]
    },
    {
      "cell_type": "code",
      "execution_count": null,
      "metadata": {
        "colab": {
          "base_uri": "https://localhost:8080/"
        },
        "id": "yin-sASje3SL",
        "outputId": "9474dc90-be80-4db9-d605-bd726237602c"
      },
      "outputs": [
        {
          "output_type": "stream",
          "name": "stdout",
          "text": [
            "Mounted at /content/gdrive\n"
          ]
        }
      ],
      "source": [
        "from google.colab import drive\n",
        "import pandas as pd\n",
        "import gensim\n",
        "from gensim.models import Word2Vec\n",
        "drive.mount('/content/gdrive')"
      ]
    },
    {
      "cell_type": "code",
      "source": [
        "import os\n",
        "os.chdir(\"/content/gdrive/MyDrive/UserStudy/Results/models\")\n",
        "!ls"
      ],
      "metadata": {
        "colab": {
          "base_uri": "https://localhost:8080/"
        },
        "id": "wZwR7QxbPyCa",
        "outputId": "16c10ddc-45d4-417e-9e48-ff29805e6a1e"
      },
      "execution_count": null,
      "outputs": [
        {
          "output_type": "stream",
          "name": "stdout",
          "text": [
            "atEndUser10.metamodel\t   AutomaticUser1.metamodel  freeUser7.metamodel\n",
            "atEndUser11.metamodel\t   automaticUser2.metamodel  freeUser8.metamodel\n",
            "atEndUser12.metamodel\t   automaticUser3.metamodel  freeUser9.metamodel\n",
            "atEndUser13.metamodel\t   automaticUser4.metamodel  onRequestUser10.metamodel\n",
            "atEnduser14.metamodel\t   automaticUser5.metamodel  onRequestUser11.metamodel\n",
            "atEnduser15.metamodel\t   automaticUser6.metamodel  onRequestUser12.metamodel\n",
            "atEndUser1.metamodel\t   automaticUser7.metamodel  onRequestUser13.metamodel\n",
            "atEndUser2.metamodel\t   automaticUser8.metamodel  onRequestUser14.metamodel\n",
            "atEndUser3.metamodel\t   AutomaticUser9.metamodel  onRequestUser15.metamodel\n",
            "atEndUser4.metamodel\t   FreeUser10.metamodel      OnRequestUser1.metamodel\n",
            "atEndUser5.metamodel\t   FreeUser11.metamodel      onRequestUser2.metamodel\n",
            "atEndUser6.metamodel\t   FreeUser12.metamodel      onRequestUser3.metamodel\n",
            "atEndUser7.metamodel\t   FreeUser13.metamodel      onRequestUser4.metamodel\n",
            "atEndUser8.metamodel\t   freeUser14.metamodel      onRequestUser5.metamodel\n",
            "atEndUser9.metamodel\t   freeUser15.metamodel      onRequestUser6.metamodel\n",
            "automaticUser10.metamodel  freeUser1.metamodel\t     onRequestUser7.metamodel\n",
            "automaticUser11.metamodel  freeUser2.metamodel\t     onRequestUser8.metamodel\n",
            "automaticUser12.metamodel  FreeUser3.metamodel\t     onRequestUser9.metamodel\n",
            "automaticUser13.metamodel  FreeUser4.metamodel\t     transformedModels\n",
            "automaticUser14.metamodel  FreeUser5.metamodel\n",
            "automaticUser15.metamodel  freeUser6.metamodel\n"
          ]
        }
      ]
    },
    {
      "cell_type": "code",
      "source": [
        "\n",
        "import xml.etree.ElementTree as ET\n",
        "tree = ET.parse('/content/gdrive/MyDrive/UserStudy/Results/Copy of onRequestUser15.metamodel')\n",
        "root = tree.getroot()\n",
        "for child in root:\n",
        "          #print(child.tag,child.attrib)\n",
        "          if(child.tag=='clazz'):\n",
        "            for attr in child:\n",
        "              attr.attrib['class']=child.attrib['name']\n",
        "              print(attr.tag,attr.attrib)\n",
        "\n",
        "\n",
        "\n"
      ],
      "metadata": {
        "colab": {
          "base_uri": "https://localhost:8080/"
        },
        "id": "GOLjjaac1ozJ",
        "outputId": "c9bd9179-58c1-4632-9c59-07b8ee19a6e9"
      },
      "execution_count": null,
      "outputs": [
        {
          "output_type": "stream",
          "name": "stdout",
          "text": [
            "attributes {'name': 'name', 'type': 'String', 'class': 'Hotel'}\n",
            "attributes {'name': 'endDate', 'type': 'Date', 'class': 'Reservation'}\n",
            "attributes {'name': 'startDate', 'type': 'Date', 'class': 'Reservation'}\n",
            "attributes {'name': 'cuisine', 'type': 'String', 'class': 'Restaurant'}\n",
            "attributes {'name': 'name', 'type': 'String', 'class': 'Restaurant'}\n",
            "attributes {'name': 'id', 'type': 'String', 'class': 'Room'}\n",
            "attributes {'name': 'address', 'type': 'String', 'class': 'Customer'}\n",
            "attributes {'name': 'surname', 'type': 'String', 'class': 'Customer'}\n",
            "attributes {'name': 'firstname', 'type': 'String', 'class': 'Customer'}\n"
          ]
        }
      ]
    },
    {
      "cell_type": "code",
      "source": [
        "def defineDict(root):\n",
        "  dict={}\n",
        "  i=-1\n",
        "  for child in root:\n",
        "\n",
        "\n",
        "      if(child.tag == 'clazz' ):\n",
        "        i=i+1\n",
        "        key= '//@clazz.' +str(i)\n",
        "        dict[key]=child.attrib\n",
        "\n",
        "  return dict\n"
      ],
      "metadata": {
        "id": "fhF2agsNSrNC"
      },
      "execution_count": null,
      "outputs": []
    },
    {
      "cell_type": "code",
      "source": [
        "#root = tree.getroot()\n",
        "def updateRoot(root,dict):\n",
        "\n",
        "  for child in root:\n",
        "          newString=str(child.attrib)\n",
        "\n",
        "          for key, value in dict.items():\n",
        "            if key in  newString:\n",
        "              newString=newString.replace(key, value['name'])\n",
        "          print(newString)\n",
        "          child.attrib=eval(newString)\n",
        "  return root\n",
        "\n",
        "\n",
        "\n"
      ],
      "metadata": {
        "id": "_Un115KLSuVi"
      },
      "execution_count": null,
      "outputs": []
    },
    {
      "cell_type": "code",
      "source": [
        "with open(file_path, 'w') as file:\n",
        "  for child in root:\n",
        "    if(child.tag != 'clazzcondidate' ):\n",
        "      print(child.tag, child.attrib)"
      ],
      "metadata": {
        "id": "68dXdkwCkPYl"
      },
      "execution_count": null,
      "outputs": []
    },
    {
      "cell_type": "markdown",
      "source": [
        "#Automate this"
      ],
      "metadata": {
        "id": "-gIfM6PMHuwb"
      }
    },
    {
      "cell_type": "code",
      "source": [
        "import xml.etree.ElementTree as ET\n",
        "\n",
        "drive_path=\"/content/gdrive/MyDrive/UserStudy/Results/models/\"\n",
        "for file_name in os.listdir(drive_path):\n",
        "  if os.path.isfile(file_name):\n",
        "    file1 = open(file_name,\"r\")\n",
        "\n",
        "    tree = ET.parse(file_name)\n",
        "    root = tree.getroot()\n",
        "    dict=defineDict(root)\n",
        "    root= updateRoot(root,dict)\n",
        "    newName= file_name.replace('metamodel','txt')\n",
        "    with open(drive_path+'/transformedModels/'+newName, 'w+') as file:\n",
        "      for child in root:\n",
        "        if(child.tag != 'clazzcondidate' ):\n",
        "          file.write(str(child.tag )+ str(child.attrib) + '\\n')\n",
        "          if(child.tag=='clazz'):\n",
        "            for attr in child:\n",
        "              attr.attrib['class']=child.attrib['name']\n",
        "              file.write(str(attr.tag )+ str(attr.attrib) + '\\n')\n",
        "\n",
        "\n",
        "\n",
        "\n",
        "\n",
        "\n",
        "\n"
      ],
      "metadata": {
        "id": "V7cHOLQIHuZl"
      },
      "execution_count": null,
      "outputs": []
    },
    {
      "cell_type": "code",
      "source": [
        "import xml.etree.ElementTree as ET\n",
        "\n",
        "drive_path=\"/content/gdrive/MyDrive/UserStudy/Results/models/\"\n",
        "file_name='onRequestUser12.metamodel'\n",
        "if os.path.isfile(drive_path+file_name):\n",
        "    file1 = open(drive_path+file_name,\"r\")\n",
        "\n",
        "    tree = ET.parse(drive_path+file_name)\n",
        "    root = tree.getroot()\n",
        "    dict=defineDict(root)\n",
        "    root= updateRoot(root,dict)\n",
        "    newName= file_name.replace('metamodel','txt')\n",
        "    with open(drive_path+'/transformedModels/group3/'+newName, 'w+') as file:\n",
        "      for child in root:\n",
        "        if(child.tag != 'clazzcondidate' ):\n",
        "          file.write(str(child.tag )+ str(child.attrib) + '\\n')\n",
        "          if(child.tag=='clazz'):\n",
        "            for attr in child:\n",
        "              attr.attrib['class']=child.attrib['name']\n",
        "              file.write(str(attr.tag )+ str(attr.attrib) + '\\n')"
      ],
      "metadata": {
        "colab": {
          "base_uri": "https://localhost:8080/"
        },
        "id": "Vzd93NvsQMlk",
        "outputId": "f1cacff4-add7-4d5f-eddf-c8791e73d86a"
      },
      "execution_count": null,
      "outputs": [
        {
          "output_type": "stream",
          "name": "stdout",
          "text": [
            "{'name': '', 'type': 'inheritance', 'source': 'SingleRoom', 'target': 'DoubleRoom'}\n",
            "{'name': '', 'type': 'inheritance', 'source': 'SingleRoom', 'target': 'Suite'}\n",
            "{'name': '', 'type': 'composition', 'source': 'Hotel', 'target': 'SingleRoom'}\n",
            "{'name': '', 'type': 'composition', 'source': 'Hotel', 'target': 'DoubleRoom'}\n",
            "{'name': '', 'type': 'composition', 'source': 'Hotel', 'target': 'Suite'}\n",
            "{'name': '', 'type': 'inheritance', 'source': 'SingleRoom', 'target': 'Room'}\n",
            "{'name': '', 'type': 'inheritance', 'source': 'DoubleRoom', 'target': 'Room'}\n",
            "{'name': '', 'type': 'composition', 'source': 'Room', 'target': 'Suite'}\n",
            "{'name': '', 'type': 'composition', 'source': 'Room', 'target': 'Hotel'}\n",
            "{'name': 'is', 'type': 'association', 'source': 'SingleRoom', 'target': 'Reservation'}\n",
            "{'name': '', 'type': 'association', 'source': 'Reservation', 'target': 'DoubleRoom'}\n",
            "{'name': '', 'type': 'association', 'source': 'Reservation', 'target': 'Suite'}\n",
            "{'name': 'has', 'type': 'association', 'source': 'Reservation', 'target': 'Hotel'}\n",
            "{'name': '', 'type': 'inheritance', 'source': 'DoubleRoom', 'target': 'SingleRoom'}\n",
            "{'name': '', 'type': 'composition', 'source': 'SingleRoom', 'target': 'Hotel'}\n",
            "{'name': 'books', 'type': 'association', 'source': 'SingleRoom', 'target': 'Reservation'}\n",
            "{'name': 'Room', 'generalizes': 'SingleRoom DoubleRoom Suite', 'isMember': 'Hotel'}\n",
            "{'name': 'SingleRoom', 'specializes': 'Room'}\n",
            "{'name': 'DoubleRoom', 'specializes': 'Room'}\n",
            "{'name': 'Suite', 'specializes': 'Room'}\n",
            "{'name': 'Hotel', 'has': 'Room'}\n",
            "{'name': 'Reservation'}\n",
            "{'name': 'course', 'confidence': '1'}\n",
            "{'name': 'hotel', 'confidence': '2'}\n",
            "{'name': 'doubleroom', 'confidence': '1'}\n",
            "{'name': 'multipleroom', 'confidence': '1'}\n",
            "{'name': 'customer', 'confidence': '2'}\n",
            "{'name': 'reservation', 'confidence': '1'}\n",
            "{'name': ' has ', 'source': 'Reservation', 'target': 'Room', 'upperBound': '1'}\n"
          ]
        }
      ]
    },
    {
      "cell_type": "markdown",
      "source": [
        "#Move files in Drive"
      ],
      "metadata": {
        "id": "WplJDnCQEO5U"
      }
    },
    {
      "cell_type": "code",
      "source": [
        "import os\n",
        "import shutil\n",
        "\n",
        "def move_files_with_filter(source_dir, target_dir, keyword):\n",
        "    try:\n",
        "        files = os.listdir(source_dir)\n",
        "\n",
        "        for file in files:\n",
        "            if keyword in file:\n",
        "                print(file)\n",
        "                source_path = os.path.join(source_dir, file)\n",
        "                target_path = os.path.join(target_dir, file)\n",
        "                shutil.copy(source_path, target_path)\n",
        "                print(f\"File '{file}' copied successfully.\")\n",
        "\n",
        "        print(\"File moving completed.\")\n",
        "    except Exception as e:\n",
        "        print(\"An error occurred while moving the files:\", str(e))\n",
        "\n",
        "# Example usage:\n",
        "#users=[1,2,3,10,13]\n",
        "#users=[4,5,8,11,14]\n",
        "users=[6,7,9,12,15]\n",
        "for i in users:\n",
        "  source_directory = '/content/gdrive/MyDrive/UserStudy/Results/user'+str(i)  # Replace with the actual path of the source directory\n",
        "  target_directory = '/content/gdrive/MyDrive/UserStudy/Results/logs/group3'  # Replace with the actual path of the target directory\n",
        "  keyword = 'log'\n",
        "\n",
        "  #move_files_with_filter(target_directory, source_directory, keyword)"
      ],
      "metadata": {
        "id": "9Luj5HNjENYQ"
      },
      "execution_count": null,
      "outputs": []
    }
  ]
}