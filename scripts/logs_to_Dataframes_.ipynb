{
  "nbformat": 4,
  "nbformat_minor": 0,
  "metadata": {
    "colab": {
      "provenance": [],
      "collapsed_sections": [
        "BjA3bSlX-YZb"
      ],
      "toc_visible": true,
      "authorship_tag": "ABX9TyP0UFhoWC9ap4vZxFXiAEX1",
      "include_colab_link": true
    },
    "kernelspec": {
      "name": "python3",
      "display_name": "Python 3"
    },
    "language_info": {
      "name": "python"
    }
  },
  "cells": [
    {
      "cell_type": "markdown",
      "metadata": {
        "id": "view-in-github",
        "colab_type": "text"
      },
      "source": [
        "<a href=\"https://colab.research.google.com/github/meriembenchaaben/FewShotLearningEfficiency-replication-package/blob/main/scripts/logs_to_Dataframes_.ipynb\" target=\"_parent\"><img src=\"https://colab.research.google.com/assets/colab-badge.svg\" alt=\"Open In Colab\"/></a>"
      ]
    },
    {
      "cell_type": "code",
      "execution_count": null,
      "metadata": {
        "id": "59HsTq3-o94E",
        "colab": {
          "base_uri": "https://localhost:8080/"
        },
        "outputId": "f1de1df8-5db9-45d1-ca73-77df0773b846"
      },
      "outputs": [
        {
          "output_type": "stream",
          "name": "stdout",
          "text": [
            "Mounted at /content/gdrive\n"
          ]
        }
      ],
      "source": [
        "from google.colab import drive\n",
        "import pandas as pd\n",
        "import gensim\n",
        "from gensim.models import Word2Vec\n",
        "import os\n",
        "import re\n",
        "drive.mount('/content/gdrive')"
      ]
    },
    {
      "cell_type": "markdown",
      "source": [
        "#### Create dataframes"
      ],
      "metadata": {
        "id": "-v1CVcZvKPqh"
      }
    },
    {
      "cell_type": "code",
      "source": [
        "#Discover the log file (example)\n",
        "drive_path=\"/content/gdrive/MyDrive/UserStudy/Results/logs/group1/log_1682972765317.txt\"\n",
        "with open(drive_path) as file:\n",
        "            lines = file.readlines()\n",
        "            print(lines)\n",
        "#targetPath='dataframes'"
      ],
      "metadata": {
        "colab": {
          "base_uri": "https://localhost:8080/"
        },
        "id": "wjCShfRGylFX",
        "outputId": "b46c748f-0673-46f6-a850-6d3570940b77"
      },
      "execution_count": null,
      "outputs": [
        {
          "output_type": "stream",
          "name": "stdout",
          "text": [
            "['2023-05-01 16:26:05.324 , INFO , null , Application started , [] ,  -  , [] ,  - \\n', '2023-05-01 16:27:38.233 , INFO , assessAtEnd , Create class , [] ,  -  , [null: []] ,  - \\n', '2023-05-01 16:27:51.360 , INFO , assessAtEnd , update class name , [Costumer] ,  -  , [Costumer: []] ,  - \\n', '2023-05-01 16:27:54.004 , INFO , assessAtEnd , Create attribute , [Costumer] ,  -  , [Costumer: [null,]] ,  - \\n', '2023-05-01 16:27:54.005 , INFO , assessAtEnd , Create attribute , [Costumer] ,  -  , [Costumer: [null,]] ,  - \\n', '2023-05-01 16:28:13.424 , INFO , assessAtEnd , Create class , [Costumer] ,  -  , [Costumer: [id,], null: []] ,  - \\n', '2023-05-01 16:28:13.439 , INFO , assessAtEnd , Create class , [Costumer] ,  -  , [Costumer: [id,], null: []] ,  - \\n', '2023-05-01 16:28:13.440 , INFO , assessAtEnd , Create class , [Costumer] ,  -  , [Costumer: [id,], null: []] ,  - \\n', '2023-05-01 16:28:17.815 , INFO , assessAtEnd , update class name , [Costumer, Account] ,  -  , [Costumer: [id,], Account: []] ,  - \\n', '2023-05-01 16:28:20.309 , INFO , assessAtEnd , Create attribute , [Costumer, Account] ,  -  , [Costumer: [id,], Account: [null,]] ,  - \\n', '2023-05-01 16:28:20.310 , INFO , assessAtEnd , Create attribute , [Costumer, Account] ,  -  , [Costumer: [id,], Account: [null,]] ,  - \\n', '2023-05-01 16:28:37.325 , INFO , assessAtEnd , Create attribute , [Costumer, Account] ,  -  , [Costumer: [id,], Account: [id,null,]] ,  - \\n', '2023-05-01 16:28:37.326 , INFO , assessAtEnd , Create attribute , [Costumer, Account] ,  -  , [Costumer: [id,], Account: [id,null,]] ,  - \\n', '2023-05-01 16:28:37.327 , INFO , assessAtEnd , Create attribute , [Costumer, Account] ,  -  , [Costumer: [id,], Account: [id,null,]] ,  - \\n', '2023-05-01 16:28:58.448 , INFO , assessAtEnd , Create class , [Costumer, Account] ,  -  , [Costumer: [id,], Account: [id,Account type,], null: []] ,  - \\n', '2023-05-01 16:28:58.462 , INFO , assessAtEnd , Create class , [Costumer, Account] ,  -  , [Costumer: [id,], Account: [id,Account type,], null: []] ,  - \\n', '2023-05-01 16:28:58.464 , INFO , assessAtEnd , Create class , [Costumer, Account] ,  -  , [Costumer: [id,], Account: [id,Account type,], null: []] ,  - \\n', '2023-05-01 16:28:58.465 , INFO , assessAtEnd , Create class , [Costumer, Account] ,  -  , [Costumer: [id,], Account: [id,Account type,], null: []] ,  - \\n', '2023-05-01 16:28:58.467 , INFO , assessAtEnd , Create class , [Costumer, Account] ,  -  , [Costumer: [id,], Account: [id,Account type,], null: []] ,  - \\n', '2023-05-01 16:29:02.576 , INFO , assessAtEnd , update class name , [Costumer, Account, Transaction] ,  -  , [Costumer: [id,], Account: [id,Account type,], Transaction: []] ,  - \\n', '2023-05-01 16:29:05.640 , INFO , assessAtEnd , Create attribute , [Costumer, Account, Transaction] ,  -  , [Costumer: [id,], Account: [id,Account type,], Transaction: [null,]] ,  - \\n', '2023-05-01 16:29:05.640 , INFO , assessAtEnd , Create attribute , [Costumer, Account, Transaction] ,  -  , [Costumer: [id,], Account: [id,Account type,], Transaction: [null,]] ,  - \\n', '2023-05-01 16:29:05.645 , INFO , assessAtEnd , Create attribute , [Costumer, Account, Transaction] ,  -  , [Costumer: [id,], Account: [id,Account type,], Transaction: [null,]] ,  - \\n', '2023-05-01 16:29:32.550 , INFO , assessAtEnd , Create attribute , [Costumer, Account, Transaction] ,  -  , [Costumer: [id,], Account: [id,Account type,], Transaction: [id,null,]] ,  - \\n', '2023-05-01 16:29:32.555 , INFO , assessAtEnd , Create attribute , [Costumer, Account, Transaction] ,  -  , [Costumer: [id,], Account: [id,Account type,], Transaction: [id,null,]] ,  - \\n', '2023-05-01 16:29:32.557 , INFO , assessAtEnd , Create attribute , [Costumer, Account, Transaction] ,  -  , [Costumer: [id,], Account: [id,Account type,], Transaction: [id,null,]] ,  - \\n', '2023-05-01 16:29:32.558 , INFO , assessAtEnd , Create attribute , [Costumer, Account, Transaction] ,  -  , [Costumer: [id,], Account: [id,Account type,], Transaction: [id,null,]] ,  - \\n', '2023-05-01 16:29:32.559 , INFO , assessAtEnd , Create attribute , [Costumer, Account, Transaction] ,  -  , [Costumer: [id,], Account: [id,Account type,], Transaction: [id,null,]] ,  - \\n', '2023-05-01 16:29:47.105 , INFO , assessAtEnd , Create attribute , [Costumer, Account, Transaction] ,  -  , [Costumer: [id,], Account: [id,Account type,], Transaction: [id,sender_id,null,]] ,  - \\n', '2023-05-01 16:29:47.111 , INFO , assessAtEnd , Create attribute , [Costumer, Account, Transaction] ,  -  , [Costumer: [id,], Account: [id,Account type,], Transaction: [id,sender_id,null,]] ,  - \\n', '2023-05-01 16:29:47.112 , INFO , assessAtEnd , Create attribute , [Costumer, Account, Transaction] ,  -  , [Costumer: [id,], Account: [id,Account type,], Transaction: [id,sender_id,null,]] ,  - \\n', '2023-05-01 16:29:47.114 , INFO , assessAtEnd , Create attribute , [Costumer, Account, Transaction] ,  -  , [Costumer: [id,], Account: [id,Account type,], Transaction: [id,sender_id,null,]] ,  - \\n', '2023-05-01 16:29:47.116 , INFO , assessAtEnd , Create attribute , [Costumer, Account, Transaction] ,  -  , [Costumer: [id,], Account: [id,Account type,], Transaction: [id,sender_id,null,]] ,  - \\n', '2023-05-01 16:30:20.915 , INFO , assessAtEnd , Create attribute , [Costumer, Account, Transaction] ,  -  , [Costumer: [id,], Account: [id,Account type,], Transaction: [id,sender_id,receiver_id,null,]] ,  - \\n', '2023-05-01 16:30:20.920 , INFO , assessAtEnd , Create attribute , [Costumer, Account, Transaction] ,  -  , [Costumer: [id,], Account: [id,Account type,], Transaction: [id,sender_id,receiver_id,null,]] ,  - \\n', '2023-05-01 16:30:20.921 , INFO , assessAtEnd , Create attribute , [Costumer, Account, Transaction] ,  -  , [Costumer: [id,], Account: [id,Account type,], Transaction: [id,sender_id,receiver_id,null,]] ,  - \\n', '2023-05-01 16:30:20.923 , INFO , assessAtEnd , Create attribute , [Costumer, Account, Transaction] ,  -  , [Costumer: [id,], Account: [id,Account type,], Transaction: [id,sender_id,receiver_id,null,]] ,  - \\n', '2023-05-01 16:30:20.924 , INFO , assessAtEnd , Create attribute , [Costumer, Account, Transaction] ,  -  , [Costumer: [id,], Account: [id,Account type,], Transaction: [id,sender_id,receiver_id,null,]] ,  - \\n', '2023-05-01 16:30:20.926 , INFO , assessAtEnd , Create attribute , [Costumer, Account, Transaction] ,  -  , [Costumer: [id,], Account: [id,Account type,], Transaction: [id,sender_id,receiver_id,null,]] ,  - \\n', '2023-05-01 16:31:27.905 , INFO , assessAtEnd , update class name , [Costumer, Account, Transfer] ,  -  , [Costumer: [id,], Account: [id,Account type,], Transfer: [id,sender_id,receiver_id,value,]] ,  - \\n', '2023-05-01 16:31:30.453 , INFO , assessAtEnd , Create class , [Costumer, Account, Transfer] ,  -  , [Costumer: [id,], Account: [id,Account type,], Transfer: [id,sender_id,receiver_id,value,], null: []] ,  - \\n', '2023-05-01 16:31:30.475 , INFO , assessAtEnd , Create class , [Costumer, Account, Transfer] ,  -  , [Costumer: [id,], Account: [id,Account type,], Transfer: [id,sender_id,receiver_id,value,], null: []] ,  - \\n', '2023-05-01 16:31:30.477 , INFO , assessAtEnd , Create class , [Costumer, Account, Transfer] ,  -  , [Costumer: [id,], Account: [id,Account type,], Transfer: [id,sender_id,receiver_id,value,], null: []] ,  - \\n', '2023-05-01 16:31:30.480 , INFO , assessAtEnd , Create class , [Costumer, Account, Transfer] ,  -  , [Costumer: [id,], Account: [id,Account type,], Transfer: [id,sender_id,receiver_id,value,], null: []] ,  - \\n', '2023-05-01 16:31:30.482 , INFO , assessAtEnd , Create class , [Costumer, Account, Transfer] ,  -  , [Costumer: [id,], Account: [id,Account type,], Transfer: [id,sender_id,receiver_id,value,], null: []] ,  - \\n', '2023-05-01 16:31:30.485 , INFO , assessAtEnd , Create class , [Costumer, Account, Transfer] ,  -  , [Costumer: [id,], Account: [id,Account type,], Transfer: [id,sender_id,receiver_id,value,], null: []] ,  - \\n', '2023-05-01 16:31:30.486 , INFO , assessAtEnd , Create class , [Costumer, Account, Transfer] ,  -  , [Costumer: [id,], Account: [id,Account type,], Transfer: [id,sender_id,receiver_id,value,], null: []] ,  - \\n', '2023-05-01 16:31:30.488 , INFO , assessAtEnd , Create class , [Costumer, Account, Transfer] ,  -  , [Costumer: [id,], Account: [id,Account type,], Transfer: [id,sender_id,receiver_id,value,], null: []] ,  - \\n', '2023-05-01 16:31:30.490 , INFO , assessAtEnd , Create class , [Costumer, Account, Transfer] ,  -  , [Costumer: [id,], Account: [id,Account type,], Transfer: [id,sender_id,receiver_id,value,], null: []] ,  - \\n', '2023-05-01 16:31:30.493 , INFO , assessAtEnd , Create class , [Costumer, Account, Transfer] ,  -  , [Costumer: [id,], Account: [id,Account type,], Transfer: [id,sender_id,receiver_id,value,], null: []] ,  - \\n', '2023-05-01 16:31:35.628 , INFO , assessAtEnd , update class name , [Costumer, Account, Transfer, Transaction] ,  -  , [Costumer: [id,], Account: [id,Account type,], Transfer: [id,sender_id,receiver_id,value,], Transaction: []] ,  - \\n', '2023-05-01 16:31:52.257 , INFO , assessAtEnd , Create attribute , [Costumer, Account, Transfer, Transaction] ,  -  , [Costumer: [id,], Account: [id,Account type,], Transfer: [id,sender_id,receiver_id,value,], Transaction: [null,]] ,  - \\n', '2023-05-01 16:31:52.262 , INFO , assessAtEnd , Create attribute , [Costumer, Account, Transfer, Transaction] ,  -  , [Costumer: [id,], Account: [id,Account type,], Transfer: [id,sender_id,receiver_id,value,], Transaction: [null,]] ,  - \\n', '2023-05-01 16:31:52.265 , INFO , assessAtEnd , Create attribute , [Costumer, Account, Transfer, Transaction] ,  -  , [Costumer: [id,], Account: [id,Account type,], Transfer: [id,sender_id,receiver_id,value,], Transaction: [null,]] ,  - \\n', '2023-05-01 16:31:52.266 , INFO , assessAtEnd , Create attribute , [Costumer, Account, Transfer, Transaction] ,  -  , [Costumer: [id,], Account: [id,Account type,], Transfer: [id,sender_id,receiver_id,value,], Transaction: [null,]] ,  - \\n', '2023-05-01 16:31:52.268 , INFO , assessAtEnd , Create attribute , [Costumer, Account, Transfer, Transaction] ,  -  , [Costumer: [id,], Account: [id,Account type,], Transfer: [id,sender_id,receiver_id,value,], Transaction: [null,]] ,  - \\n', '2023-05-01 16:31:52.270 , INFO , assessAtEnd , Create attribute , [Costumer, Account, Transfer, Transaction] ,  -  , [Costumer: [id,], Account: [id,Account type,], Transfer: [id,sender_id,receiver_id,value,], Transaction: [null,]] ,  - \\n', '2023-05-01 16:31:52.271 , INFO , assessAtEnd , Create attribute , [Costumer, Account, Transfer, Transaction] ,  -  , [Costumer: [id,], Account: [id,Account type,], Transfer: [id,sender_id,receiver_id,value,], Transaction: [null,]] ,  - \\n', '2023-05-01 16:31:52.275 , INFO , assessAtEnd , Create attribute , [Costumer, Account, Transfer, Transaction] ,  -  , [Costumer: [id,], Account: [id,Account type,], Transfer: [id,sender_id,receiver_id,value,], Transaction: [null,]] ,  - \\n', '2023-05-01 16:33:38.042 , INFO , assessAtEnd , Create attribute , [Costumer, Account, Transfer, Transaction] ,  -  , [Costumer: [id,null,], Account: [id,Account type,], Transfer: [id,sender_id,receiver_id,value,], Transaction: [type,]] ,  - \\n', '2023-05-01 16:33:38.042 , INFO , assessAtEnd , Create attribute , [Costumer, Account, Transfer, Transaction] ,  -  , [Costumer: [id,null,], Account: [id,Account type,], Transfer: [id,sender_id,receiver_id,value,], Transaction: [type,]] ,  - \\n', '2023-05-01 16:33:38.051 , INFO , assessAtEnd , Create attribute , [Costumer, Account, Transfer, Transaction] ,  -  , [Costumer: [id,null,], Account: [id,Account type,], Transfer: [id,sender_id,receiver_id,value,], Transaction: [type,]] ,  - \\n', '2023-05-01 16:33:38.053 , INFO , assessAtEnd , Create attribute , [Costumer, Account, Transfer, Transaction] ,  -  , [Costumer: [id,null,], Account: [id,Account type,], Transfer: [id,sender_id,receiver_id,value,], Transaction: [type,]] ,  - \\n', '2023-05-01 16:33:38.055 , INFO , assessAtEnd , Create attribute , [Costumer, Account, Transfer, Transaction] ,  -  , [Costumer: [id,null,], Account: [id,Account type,], Transfer: [id,sender_id,receiver_id,value,], Transaction: [type,]] ,  - \\n', '2023-05-01 16:33:38.057 , INFO , assessAtEnd , Create attribute , [Costumer, Account, Transfer, Transaction] ,  -  , [Costumer: [id,null,], Account: [id,Account type,], Transfer: [id,sender_id,receiver_id,value,], Transaction: [type,]] ,  - \\n', '2023-05-01 16:33:38.059 , INFO , assessAtEnd , Create attribute , [Costumer, Account, Transfer, Transaction] ,  -  , [Costumer: [id,null,], Account: [id,Account type,], Transfer: [id,sender_id,receiver_id,value,], Transaction: [type,]] ,  - \\n', '2023-05-01 16:33:38.061 , INFO , assessAtEnd , Create attribute , [Costumer, Account, Transfer, Transaction] ,  -  , [Costumer: [id,null,], Account: [id,Account type,], Transfer: [id,sender_id,receiver_id,value,], Transaction: [type,]] ,  - \\n', '2023-05-01 16:33:51.456 , INFO , assessAtEnd , Create attribute , [Costumer, Account, Transfer, Transaction] ,  -  , [Costumer: [id,Name,null,], Account: [id,Account type,], Transfer: [id,sender_id,receiver_id,value,], Transaction: [type,]] ,  - \\n', '2023-05-01 16:33:51.465 , INFO , assessAtEnd , Create attribute , [Costumer, Account, Transfer, Transaction] ,  -  , [Costumer: [id,Name,null,], Account: [id,Account type,], Transfer: [id,sender_id,receiver_id,value,], Transaction: [type,]] ,  - \\n', '2023-05-01 16:33:51.465 , INFO , assessAtEnd , Create attribute , [Costumer, Account, Transfer, Transaction] ,  -  , [Costumer: [id,Name,null,], Account: [id,Account type,], Transfer: [id,sender_id,receiver_id,value,], Transaction: [type,]] ,  - \\n', '2023-05-01 16:33:51.468 , INFO , assessAtEnd , Create attribute , [Costumer, Account, Transfer, Transaction] ,  -  , [Costumer: [id,Name,null,], Account: [id,Account type,], Transfer: [id,sender_id,receiver_id,value,], Transaction: [type,]] ,  - \\n', '2023-05-01 16:33:51.470 , INFO , assessAtEnd , Create attribute , [Costumer, Account, Transfer, Transaction] ,  -  , [Costumer: [id,Name,null,], Account: [id,Account type,], Transfer: [id,sender_id,receiver_id,value,], Transaction: [type,]] ,  - \\n', '2023-05-01 16:33:51.471 , INFO , assessAtEnd , Create attribute , [Costumer, Account, Transfer, Transaction] ,  -  , [Costumer: [id,Name,null,], Account: [id,Account type,], Transfer: [id,sender_id,receiver_id,value,], Transaction: [type,]] ,  - \\n', '2023-05-01 16:33:51.473 , INFO , assessAtEnd , Create attribute , [Costumer, Account, Transfer, Transaction] ,  -  , [Costumer: [id,Name,null,], Account: [id,Account type,], Transfer: [id,sender_id,receiver_id,value,], Transaction: [type,]] ,  - \\n', '2023-05-01 16:33:51.475 , INFO , assessAtEnd , Create attribute , [Costumer, Account, Transfer, Transaction] ,  -  , [Costumer: [id,Name,null,], Account: [id,Account type,], Transfer: [id,sender_id,receiver_id,value,], Transaction: [type,]] ,  - \\n', '2023-05-01 16:34:10.228 , INFO , assessAtEnd , Create class , [Costumer, Account, Transfer, Transaction] ,  -  , [Costumer: [id,Name,Credit limit,], Account: [id,Account type,], Transfer: [id,sender_id,receiver_id,value,], Transaction: [type,], null: []] ,  - \\n', '2023-05-01 16:34:10.237 , INFO , assessAtEnd , Create class , [Costumer, Account, Transfer, Transaction] ,  -  , [Costumer: [id,Name,Credit limit,], Account: [id,Account type,], Transfer: [id,sender_id,receiver_id,value,], Transaction: [type,], null: []] ,  - \\n', '2023-05-01 16:34:10.237 , INFO , assessAtEnd , Create class , [Costumer, Account, Transfer, Transaction] ,  -  , [Costumer: [id,Name,Credit limit,], Account: [id,Account type,], Transfer: [id,sender_id,receiver_id,value,], Transaction: [type,], null: []] ,  - \\n', '2023-05-01 16:34:10.246 , INFO , assessAtEnd , Create class , [Costumer, Account, Transfer, Transaction] ,  -  , [Costumer: [id,Name,Credit limit,], Account: [id,Account type,], Transfer: [id,sender_id,receiver_id,value,], Transaction: [type,], null: []] ,  - \\n', '2023-05-01 16:34:10.248 , INFO , assessAtEnd , Create class , [Costumer, Account, Transfer, Transaction] ,  -  , [Costumer: [id,Name,Credit limit,], Account: [id,Account type,], Transfer: [id,sender_id,receiver_id,value,], Transaction: [type,], null: []] ,  - \\n', '2023-05-01 16:34:10.250 , INFO , assessAtEnd , Create class , [Costumer, Account, Transfer, Transaction] ,  -  , [Costumer: [id,Name,Credit limit,], Account: [id,Account type,], Transfer: [id,sender_id,receiver_id,value,], Transaction: [type,], null: []] ,  - \\n', '2023-05-01 16:34:10.252 , INFO , assessAtEnd , Create class , [Costumer, Account, Transfer, Transaction] ,  -  , [Costumer: [id,Name,Credit limit,], Account: [id,Account type,], Transfer: [id,sender_id,receiver_id,value,], Transaction: [type,], null: []] ,  - \\n', '2023-05-01 16:34:10.254 , INFO , assessAtEnd , Create class , [Costumer, Account, Transfer, Transaction] ,  -  , [Costumer: [id,Name,Credit limit,], Account: [id,Account type,], Transfer: [id,sender_id,receiver_id,value,], Transaction: [type,], null: []] ,  - \\n', '2023-05-01 16:34:10.256 , INFO , assessAtEnd , Create class , [Costumer, Account, Transfer, Transaction] ,  -  , [Costumer: [id,Name,Credit limit,], Account: [id,Account type,], Transfer: [id,sender_id,receiver_id,value,], Transaction: [type,], null: []] ,  - \\n', '2023-05-01 16:34:10.257 , INFO , assessAtEnd , Create class , [Costumer, Account, Transfer, Transaction] ,  -  , [Costumer: [id,Name,Credit limit,], Account: [id,Account type,], Transfer: [id,sender_id,receiver_id,value,], Transaction: [type,], null: []] ,  - \\n', '2023-05-01 16:34:10.260 , INFO , assessAtEnd , Create class , [Costumer, Account, Transfer, Transaction] ,  -  , [Costumer: [id,Name,Credit limit,], Account: [id,Account type,], Transfer: [id,sender_id,receiver_id,value,], Transaction: [type,], null: []] ,  - \\n', '2023-05-01 16:34:10.263 , INFO , assessAtEnd , Create class , [Costumer, Account, Transfer, Transaction] ,  -  , [Costumer: [id,Name,Credit limit,], Account: [id,Account type,], Transfer: [id,sender_id,receiver_id,value,], Transaction: [type,], null: []] ,  - \\n', '2023-05-01 16:34:10.265 , INFO , assessAtEnd , Create class , [Costumer, Account, Transfer, Transaction] ,  -  , [Costumer: [id,Name,Credit limit,], Account: [id,Account type,], Transfer: [id,sender_id,receiver_id,value,], Transaction: [type,], null: []] ,  - \\n', '2023-05-01 16:34:13.530 , INFO , assessAtEnd , update class name , [Costumer, Account, Transfer, Transaction, ATM] ,  -  , [Costumer: [id,Name,Credit limit,], Account: [id,Account type,], Transfer: [id,sender_id,receiver_id,value,], Transaction: [type,], ATM: []] ,  - \\n', '2023-05-01 16:34:17.042 , INFO , assessAtEnd , Create attribute , [Costumer, Account, Transfer, Transaction, ATM] ,  -  , [Costumer: [id,Name,Credit limit,], Account: [id,Account type,], Transfer: [id,sender_id,receiver_id,value,], Transaction: [type,], ATM: [null,]] ,  - \\n', '2023-05-01 16:34:17.047 , INFO , assessAtEnd , Create attribute , [Costumer, Account, Transfer, Transaction, ATM] ,  -  , [Costumer: [id,Name,Credit limit,], Account: [id,Account type,], Transfer: [id,sender_id,receiver_id,value,], Transaction: [type,], ATM: [null,]] ,  - \\n', '2023-05-01 16:34:17.047 , INFO , assessAtEnd , Create attribute , [Costumer, Account, Transfer, Transaction, ATM] ,  -  , [Costumer: [id,Name,Credit limit,], Account: [id,Account type,], Transfer: [id,sender_id,receiver_id,value,], Transaction: [type,], ATM: [null,]] ,  - \\n', '2023-05-01 16:34:17.051 , INFO , assessAtEnd , Create attribute , [Costumer, Account, Transfer, Transaction, ATM] ,  -  , [Costumer: [id,Name,Credit limit,], Account: [id,Account type,], Transfer: [id,sender_id,receiver_id,value,], Transaction: [type,], ATM: [null,]] ,  - \\n', '2023-05-01 16:34:17.054 , INFO , assessAtEnd , Create attribute , [Costumer, Account, Transfer, Transaction, ATM] ,  -  , [Costumer: [id,Name,Credit limit,], Account: [id,Account type,], Transfer: [id,sender_id,receiver_id,value,], Transaction: [type,], ATM: [null,]] ,  - \\n', '2023-05-01 16:34:17.058 , INFO , assessAtEnd , Create attribute , [Costumer, Account, Transfer, Transaction, ATM] ,  -  , [Costumer: [id,Name,Credit limit,], Account: [id,Account type,], Transfer: [id,sender_id,receiver_id,value,], Transaction: [type,], ATM: [null,]] ,  - \\n', '2023-05-01 16:34:17.060 , INFO , assessAtEnd , Create attribute , [Costumer, Account, Transfer, Transaction, ATM] ,  -  , [Costumer: [id,Name,Credit limit,], Account: [id,Account type,], Transfer: [id,sender_id,receiver_id,value,], Transaction: [type,], ATM: [null,]] ,  - \\n', '2023-05-01 16:34:17.063 , INFO , assessAtEnd , Create attribute , [Costumer, Account, Transfer, Transaction, ATM] ,  -  , [Costumer: [id,Name,Credit limit,], Account: [id,Account type,], Transfer: [id,sender_id,receiver_id,value,], Transaction: [type,], ATM: [null,]] ,  - \\n', '2023-05-01 16:34:17.066 , INFO , assessAtEnd , Create attribute , [Costumer, Account, Transfer, Transaction, ATM] ,  -  , [Costumer: [id,Name,Credit limit,], Account: [id,Account type,], Transfer: [id,sender_id,receiver_id,value,], Transaction: [type,], ATM: [null,]] ,  - \\n', '2023-05-01 16:34:17.069 , INFO , assessAtEnd , Create attribute , [Costumer, Account, Transfer, Transaction, ATM] ,  -  , [Costumer: [id,Name,Credit limit,], Account: [id,Account type,], Transfer: [id,sender_id,receiver_id,value,], Transaction: [type,], ATM: [null,]] ,  - \\n', '2023-05-01 16:34:27.718 , INFO , assessAtEnd , Create attribute , [Costumer, Account, Transfer, Transaction, ATM] ,  -  , [Costumer: [id,Name,Credit limit,], Account: [id,Account type,], Transfer: [id,sender_id,receiver_id,value,], Transaction: [type,], ATM: [id,null,]] ,  - \\n', '2023-05-01 16:34:27.723 , INFO , assessAtEnd , Create attribute , [Costumer, Account, Transfer, Transaction, ATM] ,  -  , [Costumer: [id,Name,Credit limit,], Account: [id,Account type,], Transfer: [id,sender_id,receiver_id,value,], Transaction: [type,], ATM: [id,null,]] ,  - \\n', '2023-05-01 16:34:27.724 , INFO , assessAtEnd , Create attribute , [Costumer, Account, Transfer, Transaction, ATM] ,  -  , [Costumer: [id,Name,Credit limit,], Account: [id,Account type,], Transfer: [id,sender_id,receiver_id,value,], Transaction: [type,], ATM: [id,null,]] ,  - \\n', '2023-05-01 16:34:27.728 , INFO , assessAtEnd , Create attribute , [Costumer, Account, Transfer, Transaction, ATM] ,  -  , [Costumer: [id,Name,Credit limit,], Account: [id,Account type,], Transfer: [id,sender_id,receiver_id,value,], Transaction: [type,], ATM: [id,null,]] ,  - \\n', '2023-05-01 16:34:27.731 , INFO , assessAtEnd , Create attribute , [Costumer, Account, Transfer, Transaction, ATM] ,  -  , [Costumer: [id,Name,Credit limit,], Account: [id,Account type,], Transfer: [id,sender_id,receiver_id,value,], Transaction: [type,], ATM: [id,null,]] ,  - \\n', '2023-05-01 16:34:27.734 , INFO , assessAtEnd , Create attribute , [Costumer, Account, Transfer, Transaction, ATM] ,  -  , [Costumer: [id,Name,Credit limit,], Account: [id,Account type,], Transfer: [id,sender_id,receiver_id,value,], Transaction: [type,], ATM: [id,null,]] ,  - \\n', '2023-05-01 16:34:27.736 , INFO , assessAtEnd , Create attribute , [Costumer, Account, Transfer, Transaction, ATM] ,  -  , [Costumer: [id,Name,Credit limit,], Account: [id,Account type,], Transfer: [id,sender_id,receiver_id,value,], Transaction: [type,], ATM: [id,null,]] ,  - \\n', '2023-05-01 16:34:27.739 , INFO , assessAtEnd , Create attribute , [Costumer, Account, Transfer, Transaction, ATM] ,  -  , [Costumer: [id,Name,Credit limit,], Account: [id,Account type,], Transfer: [id,sender_id,receiver_id,value,], Transaction: [type,], ATM: [id,null,]] ,  - \\n', '2023-05-01 16:34:27.741 , INFO , assessAtEnd , Create attribute , [Costumer, Account, Transfer, Transaction, ATM] ,  -  , [Costumer: [id,Name,Credit limit,], Account: [id,Account type,], Transfer: [id,sender_id,receiver_id,value,], Transaction: [type,], ATM: [id,null,]] ,  - \\n', '2023-05-01 16:34:27.743 , INFO , assessAtEnd , Create attribute , [Costumer, Account, Transfer, Transaction, ATM] ,  -  , [Costumer: [id,Name,Credit limit,], Account: [id,Account type,], Transfer: [id,sender_id,receiver_id,value,], Transaction: [type,], ATM: [id,null,]] ,  - \\n', '2023-05-01 16:34:27.746 , INFO , assessAtEnd , Create attribute , [Costumer, Account, Transfer, Transaction, ATM] ,  -  , [Costumer: [id,Name,Credit limit,], Account: [id,Account type,], Transfer: [id,sender_id,receiver_id,value,], Transaction: [type,], ATM: [id,null,]] ,  - \\n', '2023-05-01 16:34:42.877 , INFO , assessAtEnd , Create attribute , [Costumer, Account, Transfer, Transaction, ATM] ,  -  , [Costumer: [id,Name,Credit limit,], Account: [id,Account type,], Transfer: [id,sender_id,receiver_id,value,], Transaction: [type,], ATM: [id,district,null,]] ,  - \\n', '2023-05-01 16:34:42.879 , INFO , assessAtEnd , Create attribute , [Costumer, Account, Transfer, Transaction, ATM] ,  -  , [Costumer: [id,Name,Credit limit,], Account: [id,Account type,], Transfer: [id,sender_id,receiver_id,value,], Transaction: [type,], ATM: [id,district,null,]] ,  - \\n', '2023-05-01 16:34:42.882 , INFO , assessAtEnd , Create attribute , [Costumer, Account, Transfer, Transaction, ATM] ,  -  , [Costumer: [id,Name,Credit limit,], Account: [id,Account type,], Transfer: [id,sender_id,receiver_id,value,], Transaction: [type,], ATM: [id,district,null,]] ,  - \\n', '2023-05-01 16:34:42.885 , INFO , assessAtEnd , Create attribute , [Costumer, Account, Transfer, Transaction, ATM] ,  -  , [Costumer: [id,Name,Credit limit,], Account: [id,Account type,], Transfer: [id,sender_id,receiver_id,value,], Transaction: [type,], ATM: [id,district,null,]] ,  - \\n', '2023-05-01 16:34:42.887 , INFO , assessAtEnd , Create attribute , [Costumer, Account, Transfer, Transaction, ATM] ,  -  , [Costumer: [id,Name,Credit limit,], Account: [id,Account type,], Transfer: [id,sender_id,receiver_id,value,], Transaction: [type,], ATM: [id,district,null,]] ,  - \\n', '2023-05-01 16:34:42.890 , INFO , assessAtEnd , Create attribute , [Costumer, Account, Transfer, Transaction, ATM] ,  -  , [Costumer: [id,Name,Credit limit,], Account: [id,Account type,], Transfer: [id,sender_id,receiver_id,value,], Transaction: [type,], ATM: [id,district,null,]] ,  - \\n', '2023-05-01 16:34:42.893 , INFO , assessAtEnd , Create attribute , [Costumer, Account, Transfer, Transaction, ATM] ,  -  , [Costumer: [id,Name,Credit limit,], Account: [id,Account type,], Transfer: [id,sender_id,receiver_id,value,], Transaction: [type,], ATM: [id,district,null,]] ,  - \\n', '2023-05-01 16:34:42.895 , INFO , assessAtEnd , Create attribute , [Costumer, Account, Transfer, Transaction, ATM] ,  -  , [Costumer: [id,Name,Credit limit,], Account: [id,Account type,], Transfer: [id,sender_id,receiver_id,value,], Transaction: [type,], ATM: [id,district,null,]] ,  - \\n', '2023-05-01 16:34:42.897 , INFO , assessAtEnd , Create attribute , [Costumer, Account, Transfer, Transaction, ATM] ,  -  , [Costumer: [id,Name,Credit limit,], Account: [id,Account type,], Transfer: [id,sender_id,receiver_id,value,], Transaction: [type,], ATM: [id,district,null,]] ,  - \\n', '2023-05-01 16:34:42.900 , INFO , assessAtEnd , Create attribute , [Costumer, Account, Transfer, Transaction, ATM] ,  -  , [Costumer: [id,Name,Credit limit,], Account: [id,Account type,], Transfer: [id,sender_id,receiver_id,value,], Transaction: [type,], ATM: [id,district,null,]] ,  - \\n', '2023-05-01 16:34:42.902 , INFO , assessAtEnd , Create attribute , [Costumer, Account, Transfer, Transaction, ATM] ,  -  , [Costumer: [id,Name,Credit limit,], Account: [id,Account type,], Transfer: [id,sender_id,receiver_id,value,], Transaction: [type,], ATM: [id,district,null,]] ,  - \\n', '2023-05-01 16:35:24.242 , INFO , assessAtEnd , Create inheritance  , [Costumer, Account, Transfer, Transaction, ATM] ,  -  , [Costumer: [id,Name,Credit limit,], Account: [id,Account type,], Transfer: [id,sender_id,receiver_id,value,], Transaction: [type,], ATM: [id,district,balance,]] ,  - \\n', '2023-05-01 16:35:38.079 , INFO , assessAtEnd , Create association , [Costumer, Account, Transfer, Transaction, ATM] ,  -  , [Costumer: [id,Name,Credit limit,], Account: [id,Account type,], Transfer: [id,sender_id,receiver_id,value,], Transaction: [type,], ATM: [id,district,balance,]] ,  - \\n', '2023-05-01 16:35:38.100 , INFO , assessAtEnd , Create association , [Costumer, Account, Transfer, Transaction, ATM] ,  -  , [Costumer: [id,Name,Credit limit,], Account: [id,Account type,], Transfer: [id,sender_id,receiver_id,value,], Transaction: [type,], ATM: [id,district,balance,]] ,  - \\n', '2023-05-01 16:35:38.102 , INFO , assessAtEnd , Create association , [Costumer, Account, Transfer, Transaction, ATM] ,  -  , [Costumer: [id,Name,Credit limit,], Account: [id,Account type,], Transfer: [id,sender_id,receiver_id,value,], Transaction: [type,], ATM: [id,district,balance,]] ,  - \\n', '2023-05-01 16:35:38.105 , INFO , assessAtEnd , Create association , [Costumer, Account, Transfer, Transaction, ATM] ,  -  , [Costumer: [id,Name,Credit limit,], Account: [id,Account type,], Transfer: [id,sender_id,receiver_id,value,], Transaction: [type,], ATM: [id,district,balance,]] ,  - \\n', '2023-05-01 16:35:38.107 , INFO , assessAtEnd , Create association , [Costumer, Account, Transfer, Transaction, ATM] ,  -  , [Costumer: [id,Name,Credit limit,], Account: [id,Account type,], Transfer: [id,sender_id,receiver_id,value,], Transaction: [type,], ATM: [id,district,balance,]] ,  - \\n', '2023-05-01 16:35:38.111 , INFO , assessAtEnd , Create association , [Costumer, Account, Transfer, Transaction, ATM] ,  -  , [Costumer: [id,Name,Credit limit,], Account: [id,Account type,], Transfer: [id,sender_id,receiver_id,value,], Transaction: [type,], ATM: [id,district,balance,]] ,  - \\n', '2023-05-01 16:35:38.114 , INFO , assessAtEnd , Create association , [Costumer, Account, Transfer, Transaction, ATM] ,  -  , [Costumer: [id,Name,Credit limit,], Account: [id,Account type,], Transfer: [id,sender_id,receiver_id,value,], Transaction: [type,], ATM: [id,district,balance,]] ,  - \\n', '2023-05-01 16:35:38.117 , INFO , assessAtEnd , Create association , [Costumer, Account, Transfer, Transaction, ATM] ,  -  , [Costumer: [id,Name,Credit limit,], Account: [id,Account type,], Transfer: [id,sender_id,receiver_id,value,], Transaction: [type,], ATM: [id,district,balance,]] ,  - \\n', '2023-05-01 16:35:38.120 , INFO , assessAtEnd , Create association , [Costumer, Account, Transfer, Transaction, ATM] ,  -  , [Costumer: [id,Name,Credit limit,], Account: [id,Account type,], Transfer: [id,sender_id,receiver_id,value,], Transaction: [type,], ATM: [id,district,balance,]] ,  - \\n', '2023-05-01 16:35:38.123 , INFO , assessAtEnd , Create association , [Costumer, Account, Transfer, Transaction, ATM] ,  -  , [Costumer: [id,Name,Credit limit,], Account: [id,Account type,], Transfer: [id,sender_id,receiver_id,value,], Transaction: [type,], ATM: [id,district,balance,]] ,  - \\n', '2023-05-01 16:35:38.126 , INFO , assessAtEnd , Create association , [Costumer, Account, Transfer, Transaction, ATM] ,  -  , [Costumer: [id,Name,Credit limit,], Account: [id,Account type,], Transfer: [id,sender_id,receiver_id,value,], Transaction: [type,], ATM: [id,district,balance,]] ,  - \\n', '2023-05-01 16:35:38.128 , INFO , assessAtEnd , Create association , [Costumer, Account, Transfer, Transaction, ATM] ,  -  , [Costumer: [id,Name,Credit limit,], Account: [id,Account type,], Transfer: [id,sender_id,receiver_id,value,], Transaction: [type,], ATM: [id,district,balance,]] ,  - \\n', '2023-05-01 16:35:38.131 , INFO , assessAtEnd , Create association , [Costumer, Account, Transfer, Transaction, ATM] ,  -  , [Costumer: [id,Name,Credit limit,], Account: [id,Account type,], Transfer: [id,sender_id,receiver_id,value,], Transaction: [type,], ATM: [id,district,balance,]] ,  - \\n', '2023-05-01 16:35:45.367 , INFO , assessAtEnd , Create association , [Costumer, Account, Transfer, Transaction, ATM] ,  -  , [Costumer: [id,Name,Credit limit,], Account: [id,Account type,], Transfer: [id,sender_id,receiver_id,value,], Transaction: [type,], ATM: [id,district,balance,]] ,  - \\n', '2023-05-01 16:35:45.369 , INFO , assessAtEnd , Create association , [Costumer, Account, Transfer, Transaction, ATM] ,  -  , [Costumer: [id,Name,Credit limit,], Account: [id,Account type,], Transfer: [id,sender_id,receiver_id,value,], Transaction: [type,], ATM: [id,district,balance,]] ,  - \\n', '2023-05-01 16:35:45.371 , INFO , assessAtEnd , Create association , [Costumer, Account, Transfer, Transaction, ATM] ,  -  , [Costumer: [id,Name,Credit limit,], Account: [id,Account type,], Transfer: [id,sender_id,receiver_id,value,], Transaction: [type,], ATM: [id,district,balance,]] ,  - \\n', '2023-05-01 16:35:45.374 , INFO , assessAtEnd , Create association , [Costumer, Account, Transfer, Transaction, ATM] ,  -  , [Costumer: [id,Name,Credit limit,], Account: [id,Account type,], Transfer: [id,sender_id,receiver_id,value,], Transaction: [type,], ATM: [id,district,balance,]] ,  - \\n', '2023-05-01 16:35:45.376 , INFO , assessAtEnd , Create association , [Costumer, Account, Transfer, Transaction, ATM] ,  -  , [Costumer: [id,Name,Credit limit,], Account: [id,Account type,], Transfer: [id,sender_id,receiver_id,value,], Transaction: [type,], ATM: [id,district,balance,]] ,  - \\n', '2023-05-01 16:35:45.379 , INFO , assessAtEnd , Create association , [Costumer, Account, Transfer, Transaction, ATM] ,  -  , [Costumer: [id,Name,Credit limit,], Account: [id,Account type,], Transfer: [id,sender_id,receiver_id,value,], Transaction: [type,], ATM: [id,district,balance,]] ,  - \\n', '2023-05-01 16:35:45.381 , INFO , assessAtEnd , Create association , [Costumer, Account, Transfer, Transaction, ATM] ,  -  , [Costumer: [id,Name,Credit limit,], Account: [id,Account type,], Transfer: [id,sender_id,receiver_id,value,], Transaction: [type,], ATM: [id,district,balance,]] ,  - \\n', '2023-05-01 16:35:45.384 , INFO , assessAtEnd , Create association , [Costumer, Account, Transfer, Transaction, ATM] ,  -  , [Costumer: [id,Name,Credit limit,], Account: [id,Account type,], Transfer: [id,sender_id,receiver_id,value,], Transaction: [type,], ATM: [id,district,balance,]] ,  - \\n', '2023-05-01 16:35:45.386 , INFO , assessAtEnd , Create association , [Costumer, Account, Transfer, Transaction, ATM] ,  -  , [Costumer: [id,Name,Credit limit,], Account: [id,Account type,], Transfer: [id,sender_id,receiver_id,value,], Transaction: [type,], ATM: [id,district,balance,]] ,  - \\n', '2023-05-01 16:35:45.389 , INFO , assessAtEnd , Create association , [Costumer, Account, Transfer, Transaction, ATM] ,  -  , [Costumer: [id,Name,Credit limit,], Account: [id,Account type,], Transfer: [id,sender_id,receiver_id,value,], Transaction: [type,], ATM: [id,district,balance,]] ,  - \\n', '2023-05-01 16:35:45.391 , INFO , assessAtEnd , Create association , [Costumer, Account, Transfer, Transaction, ATM] ,  -  , [Costumer: [id,Name,Credit limit,], Account: [id,Account type,], Transfer: [id,sender_id,receiver_id,value,], Transaction: [type,], ATM: [id,district,balance,]] ,  - \\n', '2023-05-01 16:35:45.393 , INFO , assessAtEnd , Create association , [Costumer, Account, Transfer, Transaction, ATM] ,  -  , [Costumer: [id,Name,Credit limit,], Account: [id,Account type,], Transfer: [id,sender_id,receiver_id,value,], Transaction: [type,], ATM: [id,district,balance,]] ,  - \\n', '2023-05-01 16:35:56.174 , INFO , assessAtEnd , Create association , [Costumer, Account, Transfer, Transaction, ATM] ,  -  , [Costumer: [id,Name,Credit limit,], Account: [id,Account type,], Transfer: [id,sender_id,receiver_id,value,], Transaction: [type,], ATM: [id,district,balance,]] ,  - \\n', '2023-05-01 16:35:56.187 , INFO , assessAtEnd , Create association , [Costumer, Account, Transfer, Transaction, ATM] ,  -  , [Costumer: [id,Name,Credit limit,], Account: [id,Account type,], Transfer: [id,sender_id,receiver_id,value,], Transaction: [type,], ATM: [id,district,balance,]] ,  - \\n', '2023-05-01 16:35:56.190 , INFO , assessAtEnd , Create association , [Costumer, Account, Transfer, Transaction, ATM] ,  -  , [Costumer: [id,Name,Credit limit,], Account: [id,Account type,], Transfer: [id,sender_id,receiver_id,value,], Transaction: [type,], ATM: [id,district,balance,]] ,  - \\n', '2023-05-01 16:35:56.193 , INFO , assessAtEnd , Create association , [Costumer, Account, Transfer, Transaction, ATM] ,  -  , [Costumer: [id,Name,Credit limit,], Account: [id,Account type,], Transfer: [id,sender_id,receiver_id,value,], Transaction: [type,], ATM: [id,district,balance,]] ,  - \\n', '2023-05-01 16:35:56.196 , INFO , assessAtEnd , Create association , [Costumer, Account, Transfer, Transaction, ATM] ,  -  , [Costumer: [id,Name,Credit limit,], Account: [id,Account type,], Transfer: [id,sender_id,receiver_id,value,], Transaction: [type,], ATM: [id,district,balance,]] ,  - \\n', '2023-05-01 16:35:56.199 , INFO , assessAtEnd , Create association , [Costumer, Account, Transfer, Transaction, ATM] ,  -  , [Costumer: [id,Name,Credit limit,], Account: [id,Account type,], Transfer: [id,sender_id,receiver_id,value,], Transaction: [type,], ATM: [id,district,balance,]] ,  - \\n', '2023-05-01 16:35:56.202 , INFO , assessAtEnd , Create association , [Costumer, Account, Transfer, Transaction, ATM] ,  -  , [Costumer: [id,Name,Credit limit,], Account: [id,Account type,], Transfer: [id,sender_id,receiver_id,value,], Transaction: [type,], ATM: [id,district,balance,]] ,  - \\n', '2023-05-01 16:35:56.205 , INFO , assessAtEnd , Create association , [Costumer, Account, Transfer, Transaction, ATM] ,  -  , [Costumer: [id,Name,Credit limit,], Account: [id,Account type,], Transfer: [id,sender_id,receiver_id,value,], Transaction: [type,], ATM: [id,district,balance,]] ,  - \\n', '2023-05-01 16:35:56.208 , INFO , assessAtEnd , Create association , [Costumer, Account, Transfer, Transaction, ATM] ,  -  , [Costumer: [id,Name,Credit limit,], Account: [id,Account type,], Transfer: [id,sender_id,receiver_id,value,], Transaction: [type,], ATM: [id,district,balance,]] ,  - \\n', '2023-05-01 16:35:56.211 , INFO , assessAtEnd , Create association , [Costumer, Account, Transfer, Transaction, ATM] ,  -  , [Costumer: [id,Name,Credit limit,], Account: [id,Account type,], Transfer: [id,sender_id,receiver_id,value,], Transaction: [type,], ATM: [id,district,balance,]] ,  - \\n', '2023-05-01 16:35:56.213 , INFO , assessAtEnd , Create association , [Costumer, Account, Transfer, Transaction, ATM] ,  -  , [Costumer: [id,Name,Credit limit,], Account: [id,Account type,], Transfer: [id,sender_id,receiver_id,value,], Transaction: [type,], ATM: [id,district,balance,]] ,  - \\n', '2023-05-01 16:35:56.215 , INFO , assessAtEnd , Create association , [Costumer, Account, Transfer, Transaction, ATM] ,  -  , [Costumer: [id,Name,Credit limit,], Account: [id,Account type,], Transfer: [id,sender_id,receiver_id,value,], Transaction: [type,], ATM: [id,district,balance,]] ,  - \\n', '2023-05-01 16:36:20.668 , INFO , assessAtEnd , Create association , [Costumer, Account, Transfer, Transaction, ATM] ,  -  , [Costumer: [id,Name,Credit limit,], Account: [id,Account type,], Transfer: [id,sender_id,receiver_id,value,], Transaction: [type,], ATM: [id,district,balance,]] ,  - \\n', '2023-05-01 16:36:20.682 , INFO , assessAtEnd , Create association , [Costumer, Account, Transfer, Transaction, ATM] ,  -  , [Costumer: [id,Name,Credit limit,], Account: [id,Account type,], Transfer: [id,sender_id,receiver_id,value,], Transaction: [type,], ATM: [id,district,balance,]] ,  - \\n', '2023-05-01 16:36:20.684 , INFO , assessAtEnd , Create association , [Costumer, Account, Transfer, Transaction, ATM] ,  -  , [Costumer: [id,Name,Credit limit,], Account: [id,Account type,], Transfer: [id,sender_id,receiver_id,value,], Transaction: [type,], ATM: [id,district,balance,]] ,  - \\n', '2023-05-01 16:36:20.687 , INFO , assessAtEnd , Create association , [Costumer, Account, Transfer, Transaction, ATM] ,  -  , [Costumer: [id,Name,Credit limit,], Account: [id,Account type,], Transfer: [id,sender_id,receiver_id,value,], Transaction: [type,], ATM: [id,district,balance,]] ,  - \\n', '2023-05-01 16:36:20.690 , INFO , assessAtEnd , Create association , [Costumer, Account, Transfer, Transaction, ATM] ,  -  , [Costumer: [id,Name,Credit limit,], Account: [id,Account type,], Transfer: [id,sender_id,receiver_id,value,], Transaction: [type,], ATM: [id,district,balance,]] ,  - \\n', '2023-05-01 16:36:20.693 , INFO , assessAtEnd , Create association , [Costumer, Account, Transfer, Transaction, ATM] ,  -  , [Costumer: [id,Name,Credit limit,], Account: [id,Account type,], Transfer: [id,sender_id,receiver_id,value,], Transaction: [type,], ATM: [id,district,balance,]] ,  - \\n', '2023-05-01 16:36:20.696 , INFO , assessAtEnd , Create association , [Costumer, Account, Transfer, Transaction, ATM] ,  -  , [Costumer: [id,Name,Credit limit,], Account: [id,Account type,], Transfer: [id,sender_id,receiver_id,value,], Transaction: [type,], ATM: [id,district,balance,]] ,  - \\n', '2023-05-01 16:36:20.699 , INFO , assessAtEnd , Create association , [Costumer, Account, Transfer, Transaction, ATM] ,  -  , [Costumer: [id,Name,Credit limit,], Account: [id,Account type,], Transfer: [id,sender_id,receiver_id,value,], Transaction: [type,], ATM: [id,district,balance,]] ,  - \\n', '2023-05-01 16:36:20.702 , INFO , assessAtEnd , Create association , [Costumer, Account, Transfer, Transaction, ATM] ,  -  , [Costumer: [id,Name,Credit limit,], Account: [id,Account type,], Transfer: [id,sender_id,receiver_id,value,], Transaction: [type,], ATM: [id,district,balance,]] ,  - \\n', '2023-05-01 16:36:20.705 , INFO , assessAtEnd , Create association , [Costumer, Account, Transfer, Transaction, ATM] ,  -  , [Costumer: [id,Name,Credit limit,], Account: [id,Account type,], Transfer: [id,sender_id,receiver_id,value,], Transaction: [type,], ATM: [id,district,balance,]] ,  - \\n', '2023-05-01 16:36:20.707 , INFO , assessAtEnd , Create association , [Costumer, Account, Transfer, Transaction, ATM] ,  -  , [Costumer: [id,Name,Credit limit,], Account: [id,Account type,], Transfer: [id,sender_id,receiver_id,value,], Transaction: [type,], ATM: [id,district,balance,]] ,  - \\n', '2023-05-01 16:36:20.709 , INFO , assessAtEnd , Create association , [Costumer, Account, Transfer, Transaction, ATM] ,  -  , [Costumer: [id,Name,Credit limit,], Account: [id,Account type,], Transfer: [id,sender_id,receiver_id,value,], Transaction: [type,], ATM: [id,district,balance,]] ,  - \\n', '2023-05-01 16:36:20.711 , INFO , assessAtEnd , Create association , [Costumer, Account, Transfer, Transaction, ATM] ,  -  , [Costumer: [id,Name,Credit limit,], Account: [id,Account type,], Transfer: [id,sender_id,receiver_id,value,], Transaction: [type,], ATM: [id,district,balance,]] ,  - \\n', '2023-05-01 16:37:41.138 , INFO , assessAtEnd , Create attribute , [Costumer, Account, Transfer, Transaction, ATM] ,  -  , [Costumer: [id,Name,Credit limit,creditCardCVV,], Account: [id,Account type,], Transfer: [id,sender_id,receiver_id,value,], Transaction: [type,], ATM: [id,district,balance,]] ,  - \\n', '2023-05-01 16:37:41.148 , INFO , assessAtEnd , Create attribute , [Costumer, Account, Transfer, Transaction, ATM] ,  -  , [Costumer: [id,Name,Credit limit,creditCardCVV,], Account: [id,Account type,], Transfer: [id,sender_id,receiver_id,value,], Transaction: [type,], ATM: [id,district,balance,]] ,  - \\n', '2023-05-01 16:37:41.151 , INFO , assessAtEnd , Create attribute , [Costumer, Account, Transfer, Transaction, ATM] ,  -  , [Costumer: [id,Name,Credit limit,creditCardCVV,], Account: [id,Account type,], Transfer: [id,sender_id,receiver_id,value,], Transaction: [type,], ATM: [id,district,balance,]] ,  - \\n', '2023-05-01 16:37:41.154 , INFO , assessAtEnd , Create attribute , [Costumer, Account, Transfer, Transaction, ATM] ,  -  , [Costumer: [id,Name,Credit limit,creditCardCVV,], Account: [id,Account type,], Transfer: [id,sender_id,receiver_id,value,], Transaction: [type,], ATM: [id,district,balance,]] ,  - \\n', '2023-05-01 16:37:41.157 , INFO , assessAtEnd , Create attribute , [Costumer, Account, Transfer, Transaction, ATM] ,  -  , [Costumer: [id,Name,Credit limit,creditCardCVV,], Account: [id,Account type,], Transfer: [id,sender_id,receiver_id,value,], Transaction: [type,], ATM: [id,district,balance,]] ,  - \\n', '2023-05-01 16:37:41.160 , INFO , assessAtEnd , Create attribute , [Costumer, Account, Transfer, Transaction, ATM] ,  -  , [Costumer: [id,Name,Credit limit,creditCardCVV,], Account: [id,Account type,], Transfer: [id,sender_id,receiver_id,value,], Transaction: [type,], ATM: [id,district,balance,]] ,  - \\n', '2023-05-01 16:37:41.162 , INFO , assessAtEnd , Create attribute , [Costumer, Account, Transfer, Transaction, ATM] ,  -  , [Costumer: [id,Name,Credit limit,creditCardCVV,], Account: [id,Account type,], Transfer: [id,sender_id,receiver_id,value,], Transaction: [type,], ATM: [id,district,balance,]] ,  - \\n', '2023-05-01 16:37:41.164 , INFO , assessAtEnd , Create attribute , [Costumer, Account, Transfer, Transaction, ATM] ,  -  , [Costumer: [id,Name,Credit limit,creditCardCVV,], Account: [id,Account type,], Transfer: [id,sender_id,receiver_id,value,], Transaction: [type,], ATM: [id,district,balance,]] ,  - \\n', '2023-05-01 16:37:41.167 , INFO , assessAtEnd , Create attribute , [Costumer, Account, Transfer, Transaction, ATM] ,  -  , [Costumer: [id,Name,Credit limit,creditCardCVV,], Account: [id,Account type,], Transfer: [id,sender_id,receiver_id,value,], Transaction: [type,], ATM: [id,district,balance,]] ,  - \\n', '2023-05-01 16:37:41.169 , INFO , assessAtEnd , Create attribute , [Costumer, Account, Transfer, Transaction, ATM] ,  -  , [Costumer: [id,Name,Credit limit,creditCardCVV,], Account: [id,Account type,], Transfer: [id,sender_id,receiver_id,value,], Transaction: [type,], ATM: [id,district,balance,]] ,  - \\n', '2023-05-01 16:37:41.172 , INFO , assessAtEnd , Create attribute , [Costumer, Account, Transfer, Transaction, ATM] ,  -  , [Costumer: [id,Name,Credit limit,creditCardCVV,], Account: [id,Account type,], Transfer: [id,sender_id,receiver_id,value,], Transaction: [type,], ATM: [id,district,balance,]] ,  - \\n', '2023-05-01 16:37:41.175 , INFO , assessAtEnd , Create attribute , [Costumer, Account, Transfer, Transaction, ATM] ,  -  , [Costumer: [id,Name,Credit limit,creditCardCVV,], Account: [id,Account type,], Transfer: [id,sender_id,receiver_id,value,], Transaction: [type,], ATM: [id,district,balance,]] ,  - \\n', '2023-05-01 16:37:41.178 , INFO , assessAtEnd , Create attribute , [Costumer, Account, Transfer, Transaction, ATM] ,  -  , [Costumer: [id,Name,Credit limit,creditCardCVV,], Account: [id,Account type,], Transfer: [id,sender_id,receiver_id,value,], Transaction: [type,], ATM: [id,district,balance,]] ,  - \\n', '2023-05-01 16:37:41.196 , INFO , assessAtEnd , Create attribute , [Costumer, Account, Transfer, Transaction, ATM] ,  -  , [Costumer: [id,Name,Credit limit,creditCardCVV,email,], Account: [id,Account type,], Transfer: [id,sender_id,receiver_id,value,], Transaction: [type,], ATM: [id,district,balance,]] ,  - \\n', '2023-05-01 16:37:41.204 , INFO , assessAtEnd , Create attribute , [Costumer, Account, Transfer, Transaction, ATM] ,  -  , [Costumer: [id,Name,Credit limit,creditCardCVV,email,], Account: [id,Account type,], Transfer: [id,sender_id,receiver_id,value,], Transaction: [type,], ATM: [id,district,balance,]] ,  - \\n', '2023-05-01 16:37:41.206 , INFO , assessAtEnd , Create attribute , [Costumer, Account, Transfer, Transaction, ATM] ,  -  , [Costumer: [id,Name,Credit limit,creditCardCVV,email,], Account: [id,Account type,], Transfer: [id,sender_id,receiver_id,value,], Transaction: [type,], ATM: [id,district,balance,]] ,  - \\n', '2023-05-01 16:37:41.209 , INFO , assessAtEnd , Create attribute , [Costumer, Account, Transfer, Transaction, ATM] ,  -  , [Costumer: [id,Name,Credit limit,creditCardCVV,email,], Account: [id,Account type,], Transfer: [id,sender_id,receiver_id,value,], Transaction: [type,], ATM: [id,district,balance,]] ,  - \\n', '2023-05-01 16:37:41.212 , INFO , assessAtEnd , Create attribute , [Costumer, Account, Transfer, Transaction, ATM] ,  -  , [Costumer: [id,Name,Credit limit,creditCardCVV,email,], Account: [id,Account type,], Transfer: [id,sender_id,receiver_id,value,], Transaction: [type,], ATM: [id,district,balance,]] ,  - \\n', '2023-05-01 16:37:41.214 , INFO , assessAtEnd , Create attribute , [Costumer, Account, Transfer, Transaction, ATM] ,  -  , [Costumer: [id,Name,Credit limit,creditCardCVV,email,], Account: [id,Account type,], Transfer: [id,sender_id,receiver_id,value,], Transaction: [type,], ATM: [id,district,balance,]] ,  - \\n', '2023-05-01 16:37:41.217 , INFO , assessAtEnd , Create attribute , [Costumer, Account, Transfer, Transaction, ATM] ,  -  , [Costumer: [id,Name,Credit limit,creditCardCVV,email,], Account: [id,Account type,], Transfer: [id,sender_id,receiver_id,value,], Transaction: [type,], ATM: [id,district,balance,]] ,  - \\n', '2023-05-01 16:37:41.220 , INFO , assessAtEnd , Create attribute , [Costumer, Account, Transfer, Transaction, ATM] ,  -  , [Costumer: [id,Name,Credit limit,creditCardCVV,email,], Account: [id,Account type,], Transfer: [id,sender_id,receiver_id,value,], Transaction: [type,], ATM: [id,district,balance,]] ,  - \\n', '2023-05-01 16:37:41.222 , INFO , assessAtEnd , Create attribute , [Costumer, Account, Transfer, Transaction, ATM] ,  -  , [Costumer: [id,Name,Credit limit,creditCardCVV,email,], Account: [id,Account type,], Transfer: [id,sender_id,receiver_id,value,], Transaction: [type,], ATM: [id,district,balance,]] ,  - \\n', '2023-05-01 16:37:41.225 , INFO , assessAtEnd , Create attribute , [Costumer, Account, Transfer, Transaction, ATM] ,  -  , [Costumer: [id,Name,Credit limit,creditCardCVV,email,], Account: [id,Account type,], Transfer: [id,sender_id,receiver_id,value,], Transaction: [type,], ATM: [id,district,balance,]] ,  - \\n', '2023-05-01 16:37:41.228 , INFO , assessAtEnd , Create attribute , [Costumer, Account, Transfer, Transaction, ATM] ,  -  , [Costumer: [id,Name,Credit limit,creditCardCVV,email,], Account: [id,Account type,], Transfer: [id,sender_id,receiver_id,value,], Transaction: [type,], ATM: [id,district,balance,]] ,  - \\n', '2023-05-01 16:37:41.230 , INFO , assessAtEnd , Create attribute , [Costumer, Account, Transfer, Transaction, ATM] ,  -  , [Costumer: [id,Name,Credit limit,creditCardCVV,email,], Account: [id,Account type,], Transfer: [id,sender_id,receiver_id,value,], Transaction: [type,], ATM: [id,district,balance,]] ,  - \\n', '2023-05-01 16:37:41.233 , INFO , assessAtEnd , Create attribute , [Costumer, Account, Transfer, Transaction, ATM] ,  -  , [Costumer: [id,Name,Credit limit,creditCardCVV,email,], Account: [id,Account type,], Transfer: [id,sender_id,receiver_id,value,], Transaction: [type,], ATM: [id,district,balance,]] ,  - \\n', '2023-05-01 16:37:41.251 , INFO , assessAtEnd , Create attribute , [Costumer, Account, Transfer, Transaction, ATM] ,  -  , [Costumer: [id,Name,Credit limit,creditCardCVV,email,phoneNumber,], Account: [id,Account type,], Transfer: [id,sender_id,receiver_id,value,], Transaction: [type,], ATM: [id,district,balance,]] ,  - \\n', '2023-05-01 16:37:41.258 , INFO , assessAtEnd , Create attribute , [Costumer, Account, Transfer, Transaction, ATM] ,  -  , [Costumer: [id,Name,Credit limit,creditCardCVV,email,phoneNumber,], Account: [id,Account type,], Transfer: [id,sender_id,receiver_id,value,], Transaction: [type,], ATM: [id,district,balance,]] ,  - \\n', '2023-05-01 16:37:41.262 , INFO , assessAtEnd , Create attribute , [Costumer, Account, Transfer, Transaction, ATM] ,  -  , [Costumer: [id,Name,Credit limit,creditCardCVV,email,phoneNumber,], Account: [id,Account type,], Transfer: [id,sender_id,receiver_id,value,], Transaction: [type,], ATM: [id,district,balance,]] ,  - \\n', '2023-05-01 16:37:41.264 , INFO , assessAtEnd , Create attribute , [Costumer, Account, Transfer, Transaction, ATM] ,  -  , [Costumer: [id,Name,Credit limit,creditCardCVV,email,phoneNumber,], Account: [id,Account type,], Transfer: [id,sender_id,receiver_id,value,], Transaction: [type,], ATM: [id,district,balance,]] ,  - \\n', '2023-05-01 16:37:41.268 , INFO , assessAtEnd , Create attribute , [Costumer, Account, Transfer, Transaction, ATM] ,  -  , [Costumer: [id,Name,Credit limit,creditCardCVV,email,phoneNumber,], Account: [id,Account type,], Transfer: [id,sender_id,receiver_id,value,], Transaction: [type,], ATM: [id,district,balance,]] ,  - \\n', '2023-05-01 16:37:41.271 , INFO , assessAtEnd , Create attribute , [Costumer, Account, Transfer, Transaction, ATM] ,  -  , [Costumer: [id,Name,Credit limit,creditCardCVV,email,phoneNumber,], Account: [id,Account type,], Transfer: [id,sender_id,receiver_id,value,], Transaction: [type,], ATM: [id,district,balance,]] ,  - \\n', '2023-05-01 16:37:41.276 , INFO , assessAtEnd , Create attribute , [Costumer, Account, Transfer, Transaction, ATM] ,  -  , [Costumer: [id,Name,Credit limit,creditCardCVV,email,phoneNumber,], Account: [id,Account type,], Transfer: [id,sender_id,receiver_id,value,], Transaction: [type,], ATM: [id,district,balance,]] ,  - \\n', '2023-05-01 16:37:41.279 , INFO , assessAtEnd , Create attribute , [Costumer, Account, Transfer, Transaction, ATM] ,  -  , [Costumer: [id,Name,Credit limit,creditCardCVV,email,phoneNumber,], Account: [id,Account type,], Transfer: [id,sender_id,receiver_id,value,], Transaction: [type,], ATM: [id,district,balance,]] ,  - \\n', '2023-05-01 16:37:41.282 , INFO , assessAtEnd , Create attribute , [Costumer, Account, Transfer, Transaction, ATM] ,  -  , [Costumer: [id,Name,Credit limit,creditCardCVV,email,phoneNumber,], Account: [id,Account type,], Transfer: [id,sender_id,receiver_id,value,], Transaction: [type,], ATM: [id,district,balance,]] ,  - \\n', '2023-05-01 16:37:41.285 , INFO , assessAtEnd , Create attribute , [Costumer, Account, Transfer, Transaction, ATM] ,  -  , [Costumer: [id,Name,Credit limit,creditCardCVV,email,phoneNumber,], Account: [id,Account type,], Transfer: [id,sender_id,receiver_id,value,], Transaction: [type,], ATM: [id,district,balance,]] ,  - \\n', '2023-05-01 16:37:41.289 , INFO , assessAtEnd , Create attribute , [Costumer, Account, Transfer, Transaction, ATM] ,  -  , [Costumer: [id,Name,Credit limit,creditCardCVV,email,phoneNumber,], Account: [id,Account type,], Transfer: [id,sender_id,receiver_id,value,], Transaction: [type,], ATM: [id,district,balance,]] ,  - \\n', '2023-05-01 16:37:41.292 , INFO , assessAtEnd , Create attribute , [Costumer, Account, Transfer, Transaction, ATM] ,  -  , [Costumer: [id,Name,Credit limit,creditCardCVV,email,phoneNumber,], Account: [id,Account type,], Transfer: [id,sender_id,receiver_id,value,], Transaction: [type,], ATM: [id,district,balance,]] ,  - \\n', '2023-05-01 16:37:41.295 , INFO , assessAtEnd , Create attribute , [Costumer, Account, Transfer, Transaction, ATM] ,  -  , [Costumer: [id,Name,Credit limit,creditCardCVV,email,phoneNumber,], Account: [id,Account type,], Transfer: [id,sender_id,receiver_id,value,], Transaction: [type,], ATM: [id,district,balance,]] ,  - \\n', '2023-05-01 16:37:55.848 , INFO , assessAtEnd , Create attribute , [Costumer, Account, Transfer, Transaction, ATM] ,  -  , [Costumer: [id,Name,Credit limit,creditCardCVV,email,phoneNumber,], Account: [id,Account type,currency,], Transfer: [id,sender_id,receiver_id,value,], Transaction: [type,], ATM: [id,district,balance,]] ,  - \\n', '2023-05-01 16:37:55.857 , INFO , assessAtEnd , Create attribute , [Costumer, Account, Transfer, Transaction, ATM] ,  -  , [Costumer: [id,Name,Credit limit,creditCardCVV,email,phoneNumber,], Account: [id,Account type,currency,], Transfer: [id,sender_id,receiver_id,value,], Transaction: [type,], ATM: [id,district,balance,]] ,  - \\n', '2023-05-01 16:37:55.862 , INFO , assessAtEnd , Create attribute , [Costumer, Account, Transfer, Transaction, ATM] ,  -  , [Costumer: [id,Name,Credit limit,creditCardCVV,email,phoneNumber,], Account: [id,Account type,currency,], Transfer: [id,sender_id,receiver_id,value,], Transaction: [type,], ATM: [id,district,balance,]] ,  - \\n', '2023-05-01 16:37:55.865 , INFO , assessAtEnd , Create attribute , [Costumer, Account, Transfer, Transaction, ATM] ,  -  , [Costumer: [id,Name,Credit limit,creditCardCVV,email,phoneNumber,], Account: [id,Account type,currency,], Transfer: [id,sender_id,receiver_id,value,], Transaction: [type,], ATM: [id,district,balance,]] ,  - \\n', '2023-05-01 16:37:55.869 , INFO , assessAtEnd , Create attribute , [Costumer, Account, Transfer, Transaction, ATM] ,  -  , [Costumer: [id,Name,Credit limit,creditCardCVV,email,phoneNumber,], Account: [id,Account type,currency,], Transfer: [id,sender_id,receiver_id,value,], Transaction: [type,], ATM: [id,district,balance,]] ,  - \\n', '2023-05-01 16:37:55.872 , INFO , assessAtEnd , Create attribute , [Costumer, Account, Transfer, Transaction, ATM] ,  -  , [Costumer: [id,Name,Credit limit,creditCardCVV,email,phoneNumber,], Account: [id,Account type,currency,], Transfer: [id,sender_id,receiver_id,value,], Transaction: [type,], ATM: [id,district,balance,]] ,  - \\n', '2023-05-01 16:37:55.875 , INFO , assessAtEnd , Create attribute , [Costumer, Account, Transfer, Transaction, ATM] ,  -  , [Costumer: [id,Name,Credit limit,creditCardCVV,email,phoneNumber,], Account: [id,Account type,currency,], Transfer: [id,sender_id,receiver_id,value,], Transaction: [type,], ATM: [id,district,balance,]] ,  - \\n', '2023-05-01 16:37:55.878 , INFO , assessAtEnd , Create attribute , [Costumer, Account, Transfer, Transaction, ATM] ,  -  , [Costumer: [id,Name,Credit limit,creditCardCVV,email,phoneNumber,], Account: [id,Account type,currency,], Transfer: [id,sender_id,receiver_id,value,], Transaction: [type,], ATM: [id,district,balance,]] ,  - \\n', '2023-05-01 16:37:55.881 , INFO , assessAtEnd , Create attribute , [Costumer, Account, Transfer, Transaction, ATM] ,  -  , [Costumer: [id,Name,Credit limit,creditCardCVV,email,phoneNumber,], Account: [id,Account type,currency,], Transfer: [id,sender_id,receiver_id,value,], Transaction: [type,], ATM: [id,district,balance,]] ,  - \\n', '2023-05-01 16:37:55.884 , INFO , assessAtEnd , Create attribute , [Costumer, Account, Transfer, Transaction, ATM] ,  -  , [Costumer: [id,Name,Credit limit,creditCardCVV,email,phoneNumber,], Account: [id,Account type,currency,], Transfer: [id,sender_id,receiver_id,value,], Transaction: [type,], ATM: [id,district,balance,]] ,  - \\n', '2023-05-01 16:37:55.887 , INFO , assessAtEnd , Create attribute , [Costumer, Account, Transfer, Transaction, ATM] ,  -  , [Costumer: [id,Name,Credit limit,creditCardCVV,email,phoneNumber,], Account: [id,Account type,currency,], Transfer: [id,sender_id,receiver_id,value,], Transaction: [type,], ATM: [id,district,balance,]] ,  - \\n', '2023-05-01 16:37:55.890 , INFO , assessAtEnd , Create attribute , [Costumer, Account, Transfer, Transaction, ATM] ,  -  , [Costumer: [id,Name,Credit limit,creditCardCVV,email,phoneNumber,], Account: [id,Account type,currency,], Transfer: [id,sender_id,receiver_id,value,], Transaction: [type,], ATM: [id,district,balance,]] ,  - \\n', '2023-05-01 16:37:55.894 , INFO , assessAtEnd , Create attribute , [Costumer, Account, Transfer, Transaction, ATM] ,  -  , [Costumer: [id,Name,Credit limit,creditCardCVV,email,phoneNumber,], Account: [id,Account type,currency,], Transfer: [id,sender_id,receiver_id,value,], Transaction: [type,], ATM: [id,district,balance,]] ,  - \\n']\n"
          ]
        }
      ]
    },
    {
      "cell_type": "code",
      "source": [
        "import re\n",
        "\n",
        "def retrieve_groups(string):\n",
        "    pattern = r'\\[((?:[^[\\]]+|\\[[^[\\]]*\\])*)\\]'\n",
        "    groups = re.findall(pattern, string)\n",
        "    return groups\n",
        "\n"
      ],
      "metadata": {
        "id": "Y990FX3956ef"
      },
      "execution_count": null,
      "outputs": []
    },
    {
      "cell_type": "code",
      "source": [
        "def transformOperations(text):\n",
        "  if 'Accept Attributes' in text :\n",
        "    return 'Accept Attributes '\n",
        "  if 'Accept Concept ' in text:\n",
        "    return 'Accept Concept'\n",
        "  if 'remove class' in text:\n",
        "    return 'remove class'\n",
        "  if 'Accept Association'in text:\n",
        "    return 'Accept Association'\n",
        "  return text"
      ],
      "metadata": {
        "id": "Peo1eFEJthD5"
      },
      "execution_count": null,
      "outputs": []
    },
    {
      "cell_type": "code",
      "source": [
        "\n",
        "import re,regex\n",
        "\n",
        " # Regex pattern to match the content within square brackets\n",
        "from collections import Counter\n",
        "\n",
        "def createLogDataFrame(drive_path):\n",
        "\n",
        "  with open(drive_path) as file:\n",
        "            lines = file.readlines()\n",
        "            checkMode=[]\n",
        "            for line in lines:\n",
        "              checkMode.append( line.split(',')[2])\n",
        "            counter = Counter(checkMode)\n",
        "            max_freq = counter.most_common(1)[0][1]\n",
        "            most_frequent_elements = [elem for elem, freq in counter.items() if freq == max_freq][0]\n",
        "            if( most_frequent_elements==' assessAtEnd '):\n",
        "              print(file)\n",
        "              df2 = pd.DataFrame( columns=['time', 'level','mode','operation','conceptsInCanvas','suggestedConcepts','attributesInCanvas','suggestedAttributes'])\n",
        "              times=[]\n",
        "              level=[]\n",
        "              mode=[]\n",
        "              operation=[]\n",
        "              conceptsInCanvas=[]\n",
        "              suggestedConcepts=[]\n",
        "              attributesInCanvas=[]\n",
        "              suggestedAttributes=[]\n",
        "              for line in lines:\n",
        "                times.append( line.split(',')[0])\n",
        "                level.append( line.split(',')[1])\n",
        "                mode.append( line.split(',')[2])\n",
        "                operation.append( line.split(',')[3])\n",
        "                if(line.split(',')[4]==' - '):\n",
        "\n",
        "                  conceptsInCanvas.append( line.split(',')[4])\n",
        "                else:\n",
        "\n",
        "                  result = \",\".join(line.split(',')[4:]).strip()\n",
        "                  pattern = r'\\[(.*?)\\]'\n",
        "                  match = re.search(pattern, result)\n",
        "                  if match:\n",
        "                    extracted_text = match.group(1)\n",
        "                    conceptsInCanvas.append(extracted_text)\n",
        "\n",
        "                  else:\n",
        "                    conceptsInCanvas.append( '-')\n",
        "\n",
        "\n",
        "                match = re.search(',  -  ,', line)\n",
        "                if match:\n",
        "                    line=line.split(',  -  ,')[1]\n",
        "                    suggestedConcepts.append('-')\n",
        "\n",
        "                else:\n",
        "                  suggestedConcepts.append('-')\n",
        "\n",
        "\n",
        "                pattern = r'\\[([^[\\]]*(?:(?R)[^[\\]]*)*)\\]'  # Regex pattern to match content within outermost square brackets\n",
        "\n",
        "                match = regex.search(pattern, line)\n",
        "                if match:\n",
        "                    content = match.group(1)\n",
        "\n",
        "\n",
        "\n",
        "                    attributesInCanvas.append( content)\n",
        "                    if(content):\n",
        "                      line=line.split(content)[1]\n",
        "\n",
        "                else:\n",
        "                    attributesInCanvas.append( '-')\n",
        "\n",
        "\n",
        "                match = regex.search(pattern, line)\n",
        "                if match:\n",
        "                    extracted_text = match.group(1)\n",
        "                    suggestedAttributes.append( extracted_text)\n",
        "                else:\n",
        "                    suggestedAttributes.append( '-')\n",
        "\n",
        "\n",
        "\n",
        "\n",
        "\n",
        "            else:\n",
        "\n",
        "\n",
        "\n",
        "              df2 = pd.DataFrame( columns=['time', 'level','mode','operation','conceptsInCanvas','suggestedConcepts','attributesInCanvas','suggestedAttributes'])\n",
        "              times=[]\n",
        "              level=[]\n",
        "              mode=[]\n",
        "              operation=[]\n",
        "              conceptsInCanvas=[]\n",
        "              suggestedConcepts=[]\n",
        "              attributesInCanvas=[]\n",
        "              suggestedAttributes=[]\n",
        "              for line in lines:\n",
        "                times.append( line.split(',')[0])\n",
        "                level.append( line.split(',')[1])\n",
        "                mode.append( line.split(',')[2])\n",
        "                operation.append( line.split(',')[3])\n",
        "                if(line.split(',')[4]==' - '):\n",
        "\n",
        "                  conceptsInCanvas.append( line.split(',')[4])\n",
        "                else:\n",
        "\n",
        "                  result = \",\".join(line.split(',')[4:]).strip()\n",
        "                  pattern = r'\\[(.*?)\\]'\n",
        "                  match = re.search(pattern, result)\n",
        "                  if match:\n",
        "                    extracted_text = match.group(1)\n",
        "                    conceptsInCanvas.append(extracted_text)\n",
        "\n",
        "                  else:\n",
        "                    conceptsInCanvas.append( '-')\n",
        "\n",
        "\n",
        "\n",
        "                if(line.split(',')[5]==' - '):\n",
        "                  suggestedConcepts.append( line.split(',')[5])\n",
        "                else:\n",
        "                  matches=re.findall(pattern, line)\n",
        "\n",
        "                  if len(matches) >= 2:\n",
        "                      second_match = matches[1]\n",
        "                      suggestedConcepts.append( second_match)\n",
        "\n",
        "                      if(second_match):\n",
        "                        line=line.split(second_match)[1]\n",
        "                  else:\n",
        "                    suggestedConcepts.append( '-')\n",
        "\n",
        "\n",
        "\n",
        "\n",
        "\n",
        "\n",
        "                pattern = r'\\[([^[\\]]*(?:(?R)[^[\\]]*)*)\\]'  # Regex pattern to match content within outermost square brackets\n",
        "\n",
        "                match = regex.search(pattern, line)\n",
        "                if match:\n",
        "                    content = match.group(1)\n",
        "\n",
        "\n",
        "\n",
        "                    attributesInCanvas.append( content)\n",
        "                    if(content):\n",
        "                      line=line.split(content)[1]\n",
        "\n",
        "                else:\n",
        "                    attributesInCanvas.append( '-')\n",
        "\n",
        "\n",
        "                match = regex.search(pattern, line)\n",
        "                if match:\n",
        "                    extracted_text = match.group(1)\n",
        "                    suggestedAttributes.append( extracted_text)\n",
        "                else:\n",
        "                    suggestedAttributes.append( '-')\n",
        "\n",
        "\n",
        "\n",
        "\n",
        "\n",
        "\n",
        "  df2 = pd.DataFrame({'time': times ,'level': level,'mode': mode,'operation': operation, 'conceptsInCanvas': conceptsInCanvas,'suggestedConcepts':suggestedConcepts,'attributesInCanvas' :attributesInCanvas,'suggestedAttributes' :suggestedAttributes})\n",
        "  df_filtered = df2[~df2.duplicated(subset=df2.columns.difference(['time']))]\n",
        "  df_filtered=df_filtered.reset_index()\n",
        "  del df_filtered['index']\n",
        "  mode_value = df_filtered['mode'].value_counts().idxmax()\n",
        "  return df_filtered,mode_value\n",
        "\n",
        "df"
      ],
      "metadata": {
        "id": "uhSs3VTP1p_A"
      },
      "execution_count": null,
      "outputs": []
    },
    {
      "cell_type": "code",
      "source": [
        "groups=['group1','group2','group3']\n",
        "\n",
        "\n",
        "for group  in groups:\n",
        "\n",
        "    drive_path=\"/content/gdrive/MyDrive/UserStudy/Results/logs/\"+group\n",
        "    for file_name in os.listdir(drive_path):\n",
        "      print(file_name)\n",
        "      if 'log' in file_name:\n",
        "        print('hey')\n",
        "        df,mode=createLogDataFrame(drive_path+ '/'+file_name)\n",
        "\n",
        "        df.to_csv(drive_path+'/dataframes/output'+file_name+mode+'.csv', index=False)"
      ],
      "metadata": {
        "id": "maDuhJqsA2YG"
      },
      "execution_count": null,
      "outputs": []
    },
    {
      "cell_type": "markdown",
      "source": [
        "##Create dataset of no assistance task\n"
      ],
      "metadata": {
        "id": "fw3L-4in-I62"
      }
    },
    {
      "cell_type": "code",
      "source": [
        "\n",
        "def getSeperatedDataframes(df):\n",
        "  df_Before = pd.DataFrame(columns=df.columns)\n",
        "  df_After = pd.DataFrame(columns=df.columns)\n",
        "  before =True\n",
        "# Iterate over the rows\n",
        "  for index, row in df.iterrows():\n",
        "    if(before==True):\n",
        "      if 'accept' not in row['operation'].lower():\n",
        "          df_Before = df_Before.append(row)\n",
        "      else:\n",
        "        before = False\n",
        "    else:\n",
        "       df_After = df_After.append(row)\n",
        "  return df_Before , df_After"
      ],
      "metadata": {
        "id": "xX0HHcbjCKw5"
      },
      "execution_count": null,
      "outputs": []
    },
    {
      "cell_type": "code",
      "source": [
        "groups=['group1','group2','group3']\n",
        "\n",
        "\n",
        "for group  in groups:\n",
        "\n",
        "    drive_path=\"/content/gdrive/MyDrive/UserStudy/Results/logs/\"+group+\"/dataframes/\"\n",
        "    for file_name in os.listdir(drive_path):\n",
        "\n",
        "      if 'assessAtEnd' in file_name:\n",
        "        print(file_name)\n",
        "        df=pd.read_csv(drive_path+file_name)\n",
        "\n",
        "        df_Before , df_After= getSeperatedDataframes(df)\n",
        "        df_Before.to_csv(drive_path+'/noAssistance//output'+file_name, index=False)\n",
        "        df_After.to_csv(drive_path+'/noAssistance/afterOnly/output'+file_name, index=False)"
      ],
      "metadata": {
        "id": "lKxLxUu_-VZG"
      },
      "execution_count": null,
      "outputs": []
    }
  ]
}